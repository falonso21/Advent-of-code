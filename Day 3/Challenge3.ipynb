{
 "cells": [
  {
   "cell_type": "markdown",
   "metadata": {},
   "source": [
    "# Francisco Alonso Fernández.\n",
    "## Day 3: Toboggan Trajectory."
   ]
  },
  {
   "cell_type": "code",
   "execution_count": 1,
   "metadata": {},
   "outputs": [],
   "source": [
    "## Used libraries\n",
    "import pandas as pd"
   ]
  },
  {
   "cell_type": "code",
   "execution_count": 2,
   "metadata": {},
   "outputs": [],
   "source": [
    "## Reading the data\n",
    "forest = pd.read_csv('Challenge3.csv')"
   ]
  },
  {
   "cell_type": "code",
   "execution_count": 3,
   "metadata": {},
   "outputs": [],
   "source": [
    "for i in range(len(forest.Forest[0])):\n",
    "    forest[i] = [list(x)[i] for x in forest.Forest]"
   ]
  },
  {
   "cell_type": "code",
   "execution_count": 4,
   "metadata": {},
   "outputs": [],
   "source": [
    "forest.drop('Forest',axis=1,inplace=True)"
   ]
  },
  {
   "cell_type": "code",
   "execution_count": 5,
   "metadata": {},
   "outputs": [
    {
     "data": {
      "text/html": [
       "<div>\n",
       "<style scoped>\n",
       "    .dataframe tbody tr th:only-of-type {\n",
       "        vertical-align: middle;\n",
       "    }\n",
       "\n",
       "    .dataframe tbody tr th {\n",
       "        vertical-align: top;\n",
       "    }\n",
       "\n",
       "    .dataframe thead th {\n",
       "        text-align: right;\n",
       "    }\n",
       "</style>\n",
       "<table border=\"1\" class=\"dataframe\">\n",
       "  <thead>\n",
       "    <tr style=\"text-align: right;\">\n",
       "      <th></th>\n",
       "      <th>0</th>\n",
       "      <th>1</th>\n",
       "      <th>2</th>\n",
       "      <th>3</th>\n",
       "      <th>4</th>\n",
       "      <th>5</th>\n",
       "      <th>6</th>\n",
       "      <th>7</th>\n",
       "      <th>8</th>\n",
       "      <th>9</th>\n",
       "      <th>...</th>\n",
       "      <th>21</th>\n",
       "      <th>22</th>\n",
       "      <th>23</th>\n",
       "      <th>24</th>\n",
       "      <th>25</th>\n",
       "      <th>26</th>\n",
       "      <th>27</th>\n",
       "      <th>28</th>\n",
       "      <th>29</th>\n",
       "      <th>30</th>\n",
       "    </tr>\n",
       "  </thead>\n",
       "  <tbody>\n",
       "    <tr>\n",
       "      <th>0</th>\n",
       "      <td>.</td>\n",
       "      <td>.</td>\n",
       "      <td>.</td>\n",
       "      <td>.</td>\n",
       "      <td>#</td>\n",
       "      <td>.</td>\n",
       "      <td>.</td>\n",
       "      <td>.</td>\n",
       "      <td>.</td>\n",
       "      <td>.</td>\n",
       "      <td>...</td>\n",
       "      <td>.</td>\n",
       "      <td>#</td>\n",
       "      <td>.</td>\n",
       "      <td>.</td>\n",
       "      <td>#</td>\n",
       "      <td>#</td>\n",
       "      <td>#</td>\n",
       "      <td>.</td>\n",
       "      <td>#</td>\n",
       "      <td>#</td>\n",
       "    </tr>\n",
       "    <tr>\n",
       "      <th>1</th>\n",
       "      <td>.</td>\n",
       "      <td>#</td>\n",
       "      <td>.</td>\n",
       "      <td>.</td>\n",
       "      <td>#</td>\n",
       "      <td>.</td>\n",
       "      <td>.</td>\n",
       "      <td>.</td>\n",
       "      <td>.</td>\n",
       "      <td>#</td>\n",
       "      <td>...</td>\n",
       "      <td>.</td>\n",
       "      <td>.</td>\n",
       "      <td>.</td>\n",
       "      <td>.</td>\n",
       "      <td>.</td>\n",
       "      <td>#</td>\n",
       "      <td>#</td>\n",
       "      <td>.</td>\n",
       "      <td>.</td>\n",
       "      <td>.</td>\n",
       "    </tr>\n",
       "    <tr>\n",
       "      <th>2</th>\n",
       "      <td>.</td>\n",
       "      <td>.</td>\n",
       "      <td>.</td>\n",
       "      <td>.</td>\n",
       "      <td>#</td>\n",
       "      <td>#</td>\n",
       "      <td>#</td>\n",
       "      <td>.</td>\n",
       "      <td>.</td>\n",
       "      <td>.</td>\n",
       "      <td>...</td>\n",
       "      <td>.</td>\n",
       "      <td>.</td>\n",
       "      <td>.</td>\n",
       "      <td>#</td>\n",
       "      <td>.</td>\n",
       "      <td>#</td>\n",
       "      <td>#</td>\n",
       "      <td>.</td>\n",
       "      <td>.</td>\n",
       "      <td>#</td>\n",
       "    </tr>\n",
       "    <tr>\n",
       "      <th>3</th>\n",
       "      <td>.</td>\n",
       "      <td>.</td>\n",
       "      <td>.</td>\n",
       "      <td>.</td>\n",
       "      <td>.</td>\n",
       "      <td>.</td>\n",
       "      <td>.</td>\n",
       "      <td>#</td>\n",
       "      <td>.</td>\n",
       "      <td>.</td>\n",
       "      <td>...</td>\n",
       "      <td>#</td>\n",
       "      <td>.</td>\n",
       "      <td>.</td>\n",
       "      <td>.</td>\n",
       "      <td>#</td>\n",
       "      <td>#</td>\n",
       "      <td>.</td>\n",
       "      <td>.</td>\n",
       "      <td>.</td>\n",
       "      <td>.</td>\n",
       "    </tr>\n",
       "    <tr>\n",
       "      <th>4</th>\n",
       "      <td>.</td>\n",
       "      <td>.</td>\n",
       "      <td>.</td>\n",
       "      <td>.</td>\n",
       "      <td>.</td>\n",
       "      <td>#</td>\n",
       "      <td>.</td>\n",
       "      <td>.</td>\n",
       "      <td>#</td>\n",
       "      <td>.</td>\n",
       "      <td>...</td>\n",
       "      <td>#</td>\n",
       "      <td>#</td>\n",
       "      <td>.</td>\n",
       "      <td>.</td>\n",
       "      <td>#</td>\n",
       "      <td>.</td>\n",
       "      <td>.</td>\n",
       "      <td>.</td>\n",
       "      <td>#</td>\n",
       "      <td>.</td>\n",
       "    </tr>\n",
       "  </tbody>\n",
       "</table>\n",
       "<p>5 rows × 31 columns</p>\n",
       "</div>"
      ],
      "text/plain": [
       "  0  1  2  3  4  5  6  7  8  9   ... 21 22 23 24 25 26 27 28 29 30\n",
       "0  .  .  .  .  #  .  .  .  .  .  ...  .  #  .  .  #  #  #  .  #  #\n",
       "1  .  #  .  .  #  .  .  .  .  #  ...  .  .  .  .  .  #  #  .  .  .\n",
       "2  .  .  .  .  #  #  #  .  .  .  ...  .  .  .  #  .  #  #  .  .  #\n",
       "3  .  .  .  .  .  .  .  #  .  .  ...  #  .  .  .  #  #  .  .  .  .\n",
       "4  .  .  .  .  .  #  .  .  #  .  ...  #  #  .  .  #  .  .  .  #  .\n",
       "\n",
       "[5 rows x 31 columns]"
      ]
     },
     "execution_count": 5,
     "metadata": {},
     "output_type": "execute_result"
    }
   ],
   "source": [
    "forest.head(5)"
   ]
  },
  {
   "cell_type": "code",
   "execution_count": 6,
   "metadata": {},
   "outputs": [],
   "source": [
    "def calculate_new_position(position):\n",
    "    solution = (position[0]+1,position[1]+3)\n",
    "    ## Avoid pattern to the right\n",
    "    if solution[1] > 30:\n",
    "        return (solution[0],(solution[1]-1)%10)\n",
    "    else:\n",
    "        return solution"
   ]
  },
  {
   "cell_type": "markdown",
   "metadata": {},
   "source": [
    "## Part 1"
   ]
  },
  {
   "cell_type": "code",
   "execution_count": 7,
   "metadata": {},
   "outputs": [],
   "source": [
    "initial = (0,0)\n",
    "count_trees = 0\n",
    "for i in range(len(forest)):\n",
    "    if i==0:\n",
    "        if forest.iloc[initial] == '#':\n",
    "            count_trees+=1\n",
    "        position = calculate_new_position(initial)\n",
    "    else:\n",
    "        if forest.iloc[position] == '#':\n",
    "            count_trees+=1\n",
    "        position = calculate_new_position(position)"
   ]
  },
  {
   "cell_type": "code",
   "execution_count": 8,
   "metadata": {},
   "outputs": [
    {
     "data": {
      "text/plain": [
       "211"
      ]
     },
     "execution_count": 8,
     "metadata": {},
     "output_type": "execute_result"
    }
   ],
   "source": [
    "count_trees"
   ]
  },
  {
   "cell_type": "markdown",
   "metadata": {},
   "source": [
    "## Part 2"
   ]
  },
  {
   "cell_type": "markdown",
   "metadata": {},
   "source": [
    "Of course we could do it with more efficiently with just one for loop, but it would be less clear since we would need to declare plenty of variables and increment them in each operation."
   ]
  },
  {
   "cell_type": "code",
   "execution_count": 19,
   "metadata": {},
   "outputs": [],
   "source": [
    "def calculate_new_position(position,pattern):\n",
    "    solution = (position[0]+pattern[0],position[1]+pattern[1])\n",
    "    ## Avoid pattern to the right\n",
    "    if solution[1] > 30:\n",
    "        return (solution[0],(solution[1]-1)%10)\n",
    "    else:\n",
    "        return solution"
   ]
  },
  {
   "cell_type": "code",
   "execution_count": 20,
   "metadata": {},
   "outputs": [
    {
     "data": {
      "text/plain": [
       "67"
      ]
     },
     "execution_count": 20,
     "metadata": {},
     "output_type": "execute_result"
    }
   ],
   "source": [
    "## Patern Right 1, down 1. \n",
    "initial = (0,0)\n",
    "count_trees1 = 0\n",
    "for i in range(len(forest)):\n",
    "    if i==0:\n",
    "        if forest.iloc[initial] == '#':\n",
    "            count_trees1+=1\n",
    "        position = calculate_new_position(initial,(1,1))\n",
    "    else:\n",
    "        if forest.iloc[position] == '#':\n",
    "            count_trees1+=1\n",
    "        position = calculate_new_position(position,(1,1))\n",
    "count_trees1"
   ]
  },
  {
   "cell_type": "code",
   "execution_count": 21,
   "metadata": {},
   "outputs": [
    {
     "data": {
      "text/plain": [
       "211"
      ]
     },
     "execution_count": 21,
     "metadata": {},
     "output_type": "execute_result"
    }
   ],
   "source": [
    "## Patern Right 3, down 1. \n",
    "initial = (0,0)\n",
    "count_trees2 = 0\n",
    "for i in range(len(forest)):\n",
    "    if i==0:\n",
    "        if forest.iloc[initial] == '#':\n",
    "            count_trees2+=1\n",
    "        position = calculate_new_position(initial,(1,3))\n",
    "    else:\n",
    "        if forest.iloc[position] == '#':\n",
    "            count_trees2+=1\n",
    "        position = calculate_new_position(position,(1,3))\n",
    "count_trees2"
   ]
  },
  {
   "cell_type": "code",
   "execution_count": 22,
   "metadata": {},
   "outputs": [
    {
     "data": {
      "text/plain": [
       "77"
      ]
     },
     "execution_count": 22,
     "metadata": {},
     "output_type": "execute_result"
    }
   ],
   "source": [
    "## Patern Right 5, down 1. \n",
    "initial = (0,0)\n",
    "count_trees3 = 0\n",
    "for i in range(len(forest)):\n",
    "    if i==0:\n",
    "        if forest.iloc[initial] == '#':\n",
    "            count_trees3+=1\n",
    "        position = calculate_new_position(initial,(1,5))\n",
    "    else:\n",
    "        if forest.iloc[position] == '#':\n",
    "            count_trees3+=1\n",
    "        position = calculate_new_position(position,(1,5))\n",
    "count_trees3"
   ]
  },
  {
   "cell_type": "code",
   "execution_count": 23,
   "metadata": {},
   "outputs": [
    {
     "data": {
      "text/plain": [
       "89"
      ]
     },
     "execution_count": 23,
     "metadata": {},
     "output_type": "execute_result"
    }
   ],
   "source": [
    "## Patern Right 7, down 1. \n",
    "initial = (0,0)\n",
    "count_trees4 = 0\n",
    "for i in range(len(forest)):\n",
    "    if i==0:\n",
    "        if forest.iloc[initial] == '#':\n",
    "            count_trees4+=1\n",
    "        position = calculate_new_position(initial,(1,7))\n",
    "    else:\n",
    "        if forest.iloc[position] == '#':\n",
    "            count_trees4+=1\n",
    "        position = calculate_new_position(position,(1,7))\n",
    "count_trees4"
   ]
  },
  {
   "cell_type": "code",
   "execution_count": 24,
   "metadata": {},
   "outputs": [
    {
     "data": {
      "text/plain": [
       "37"
      ]
     },
     "execution_count": 24,
     "metadata": {},
     "output_type": "execute_result"
    }
   ],
   "source": [
    "## Patern Right 1, down 2. \n",
    "initial = (0,0)\n",
    "count_trees5= 0\n",
    "for i in range(len(forest)):\n",
    "    if i==0:\n",
    "        if forest.iloc[initial] == '#':\n",
    "            count_trees5+=1\n",
    "        position = calculate_new_position(initial,(2,1))\n",
    "    else:\n",
    "        ## Solve the problem that now we are stepping two rows each time\n",
    "        if i%2==0:\n",
    "            if forest.iloc[position] == '#':\n",
    "                count_trees5+=1\n",
    "            position = calculate_new_position(position,(2,1))\n",
    "        else:\n",
    "            pass\n",
    "count_trees5"
   ]
  },
  {
   "cell_type": "code",
   "execution_count": 26,
   "metadata": {},
   "outputs": [
    {
     "data": {
      "text/plain": [
       "3584591857"
      ]
     },
     "execution_count": 26,
     "metadata": {},
     "output_type": "execute_result"
    }
   ],
   "source": [
    "final_solution = count_trees1 * count_trees2 * count_trees3 * count_trees4 * count_trees5\n",
    "final_solution"
   ]
  }
 ],
 "metadata": {
  "kernelspec": {
   "display_name": "Python 3",
   "language": "python",
   "name": "python3"
  },
  "language_info": {
   "codemirror_mode": {
    "name": "ipython",
    "version": 3
   },
   "file_extension": ".py",
   "mimetype": "text/x-python",
   "name": "python",
   "nbconvert_exporter": "python",
   "pygments_lexer": "ipython3",
   "version": "3.7.3"
  }
 },
 "nbformat": 4,
 "nbformat_minor": 2
}
