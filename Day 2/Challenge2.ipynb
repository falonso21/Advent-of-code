{
 "cells": [
  {
   "cell_type": "markdown",
   "metadata": {},
   "source": [
    "# Francisco Alonso Fernández.\n",
    "## Challenge Day 2: Password Philosophy."
   ]
  },
  {
   "cell_type": "code",
   "execution_count": 38,
   "metadata": {},
   "outputs": [],
   "source": [
    "## Used libraries\n",
    "import pandas as pd\n",
    "import re"
   ]
  },
  {
   "cell_type": "code",
   "execution_count": 39,
   "metadata": {},
   "outputs": [],
   "source": [
    "## Reading the data\n",
    "data = pd.read_csv('Challenge2.csv')"
   ]
  },
  {
   "cell_type": "code",
   "execution_count": 40,
   "metadata": {},
   "outputs": [
    {
     "data": {
      "text/html": [
       "<div>\n",
       "<style scoped>\n",
       "    .dataframe tbody tr th:only-of-type {\n",
       "        vertical-align: middle;\n",
       "    }\n",
       "\n",
       "    .dataframe tbody tr th {\n",
       "        vertical-align: top;\n",
       "    }\n",
       "\n",
       "    .dataframe thead th {\n",
       "        text-align: right;\n",
       "    }\n",
       "</style>\n",
       "<table border=\"1\" class=\"dataframe\">\n",
       "  <thead>\n",
       "    <tr style=\"text-align: right;\">\n",
       "      <th></th>\n",
       "      <th>Original</th>\n",
       "    </tr>\n",
       "  </thead>\n",
       "  <tbody>\n",
       "    <tr>\n",
       "      <th>0</th>\n",
       "      <td>3-4 j: tjjj</td>\n",
       "    </tr>\n",
       "    <tr>\n",
       "      <th>1</th>\n",
       "      <td>7-10 h: nhhhhhgghphhh</td>\n",
       "    </tr>\n",
       "    <tr>\n",
       "      <th>2</th>\n",
       "      <td>7-13 j: tpscbbstbdjsjbtcpj</td>\n",
       "    </tr>\n",
       "    <tr>\n",
       "      <th>3</th>\n",
       "      <td>4-13 l: ckllmqzlvcsxpplqg</td>\n",
       "    </tr>\n",
       "    <tr>\n",
       "      <th>4</th>\n",
       "      <td>3-11 n: nnrhnnnnnnnwsdnnnm</td>\n",
       "    </tr>\n",
       "  </tbody>\n",
       "</table>\n",
       "</div>"
      ],
      "text/plain": [
       "                     Original\n",
       "0                 3-4 j: tjjj\n",
       "1       7-10 h: nhhhhhgghphhh\n",
       "2  7-13 j: tpscbbstbdjsjbtcpj\n",
       "3   4-13 l: ckllmqzlvcsxpplqg\n",
       "4  3-11 n: nnrhnnnnnnnwsdnnnm"
      ]
     },
     "execution_count": 40,
     "metadata": {},
     "output_type": "execute_result"
    }
   ],
   "source": [
    "## Showing first elements...\n",
    "data.head()"
   ]
  },
  {
   "cell_type": "code",
   "execution_count": 41,
   "metadata": {},
   "outputs": [],
   "source": [
    "## Creating more useful columns via regexp\n",
    "data['Policy_min'] = [re.sub(r'(\\d+)-(\\d+) (\\w): (\\w+)',r'\\1',x) for x in data.Original]\n",
    "data['Policy_max'] = [re.sub(r'(\\d+)-(\\d+) (\\w): (\\w+)',r'\\2',x) for x in data.Original]\n",
    "data['Letter'] = [re.sub(r'(\\d+)-(\\d+) (\\w): (\\w+)',r'\\3',x) for x in data.Original]\n",
    "data['Password'] = [re.sub(r'(\\d+)-(\\d+) (\\w): (\\w+)',r'\\4',x) for x in data.Original]"
   ]
  },
  {
   "cell_type": "code",
   "execution_count": 42,
   "metadata": {},
   "outputs": [
    {
     "data": {
      "text/html": [
       "<div>\n",
       "<style scoped>\n",
       "    .dataframe tbody tr th:only-of-type {\n",
       "        vertical-align: middle;\n",
       "    }\n",
       "\n",
       "    .dataframe tbody tr th {\n",
       "        vertical-align: top;\n",
       "    }\n",
       "\n",
       "    .dataframe thead th {\n",
       "        text-align: right;\n",
       "    }\n",
       "</style>\n",
       "<table border=\"1\" class=\"dataframe\">\n",
       "  <thead>\n",
       "    <tr style=\"text-align: right;\">\n",
       "      <th></th>\n",
       "      <th>Original</th>\n",
       "      <th>Policy_min</th>\n",
       "      <th>Policy_max</th>\n",
       "      <th>Letter</th>\n",
       "      <th>Password</th>\n",
       "    </tr>\n",
       "  </thead>\n",
       "  <tbody>\n",
       "    <tr>\n",
       "      <th>0</th>\n",
       "      <td>3-4 j: tjjj</td>\n",
       "      <td>3</td>\n",
       "      <td>4</td>\n",
       "      <td>j</td>\n",
       "      <td>tjjj</td>\n",
       "    </tr>\n",
       "    <tr>\n",
       "      <th>1</th>\n",
       "      <td>7-10 h: nhhhhhgghphhh</td>\n",
       "      <td>7</td>\n",
       "      <td>10</td>\n",
       "      <td>h</td>\n",
       "      <td>nhhhhhgghphhh</td>\n",
       "    </tr>\n",
       "    <tr>\n",
       "      <th>2</th>\n",
       "      <td>7-13 j: tpscbbstbdjsjbtcpj</td>\n",
       "      <td>7</td>\n",
       "      <td>13</td>\n",
       "      <td>j</td>\n",
       "      <td>tpscbbstbdjsjbtcpj</td>\n",
       "    </tr>\n",
       "    <tr>\n",
       "      <th>3</th>\n",
       "      <td>4-13 l: ckllmqzlvcsxpplqg</td>\n",
       "      <td>4</td>\n",
       "      <td>13</td>\n",
       "      <td>l</td>\n",
       "      <td>ckllmqzlvcsxpplqg</td>\n",
       "    </tr>\n",
       "    <tr>\n",
       "      <th>4</th>\n",
       "      <td>3-11 n: nnrhnnnnnnnwsdnnnm</td>\n",
       "      <td>3</td>\n",
       "      <td>11</td>\n",
       "      <td>n</td>\n",
       "      <td>nnrhnnnnnnnwsdnnnm</td>\n",
       "    </tr>\n",
       "  </tbody>\n",
       "</table>\n",
       "</div>"
      ],
      "text/plain": [
       "                     Original Policy_min Policy_max Letter            Password\n",
       "0                 3-4 j: tjjj          3          4      j                tjjj\n",
       "1       7-10 h: nhhhhhgghphhh          7         10      h       nhhhhhgghphhh\n",
       "2  7-13 j: tpscbbstbdjsjbtcpj          7         13      j  tpscbbstbdjsjbtcpj\n",
       "3   4-13 l: ckllmqzlvcsxpplqg          4         13      l   ckllmqzlvcsxpplqg\n",
       "4  3-11 n: nnrhnnnnnnnwsdnnnm          3         11      n  nnrhnnnnnnnwsdnnnm"
      ]
     },
     "execution_count": 42,
     "metadata": {},
     "output_type": "execute_result"
    }
   ],
   "source": [
    "data.head()"
   ]
  },
  {
   "cell_type": "code",
   "execution_count": 45,
   "metadata": {},
   "outputs": [],
   "source": [
    "## Converting policy's column to numeric\n",
    "cols = ['Policy_min','Policy_max']\n",
    "data[cols] = data[cols].apply(pd.to_numeric, errors='coerce')"
   ]
  },
  {
   "cell_type": "markdown",
   "metadata": {},
   "source": [
    "## Part 1"
   ]
  },
  {
   "cell_type": "code",
   "execution_count": 48,
   "metadata": {},
   "outputs": [
    {
     "data": {
      "text/plain": [
       "483"
      ]
     },
     "execution_count": 48,
     "metadata": {},
     "output_type": "execute_result"
    }
   ],
   "source": [
    "## Counting rows satisfying the given condition\n",
    "cont = 0\n",
    "for index,row in data.iterrows():\n",
    "    if (row.Policy_min <= row.Password.count(row.Letter) <= row.Policy_max):\n",
    "        cont+=1\n",
    "cont"
   ]
  },
  {
   "cell_type": "markdown",
   "metadata": {},
   "source": [
    "## Part 2"
   ]
  },
  {
   "cell_type": "code",
   "execution_count": 59,
   "metadata": {},
   "outputs": [],
   "source": [
    "## This column could be useful to check if any password is shorter than the policy max\n",
    "data['string_len'] = [len(x) for x in data.Password]"
   ]
  },
  {
   "cell_type": "code",
   "execution_count": 67,
   "metadata": {},
   "outputs": [
    {
     "data": {
      "text/plain": [
       "482"
      ]
     },
     "execution_count": 67,
     "metadata": {},
     "output_type": "execute_result"
    }
   ],
   "source": [
    "cont = 0\n",
    "for index,row in data.iterrows():\n",
    "    if (row.Password[row.Policy_min - 1] == row.Letter) & (row.Password[row.Policy_max - 1] != row.Letter):\n",
    "        cont+=1\n",
    "    if (row.Password[row.Policy_min - 1] != row.Letter) & (row.Password[row.Policy_max - 1] == row.Letter):\n",
    "        cont+=1\n",
    "cont "
   ]
  }
 ],
 "metadata": {
  "kernelspec": {
   "display_name": "Python 3",
   "language": "python",
   "name": "python3"
  },
  "language_info": {
   "codemirror_mode": {
    "name": "ipython",
    "version": 3
   },
   "file_extension": ".py",
   "mimetype": "text/x-python",
   "name": "python",
   "nbconvert_exporter": "python",
   "pygments_lexer": "ipython3",
   "version": "3.7.3"
  }
 },
 "nbformat": 4,
 "nbformat_minor": 2
}
